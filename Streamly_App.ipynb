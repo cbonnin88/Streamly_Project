{
  "nbformat": 4,
  "nbformat_minor": 0,
  "metadata": {
    "colab": {
      "provenance": [],
      "authorship_tag": "ABX9TyODl6/Qrd8uvXVv9LMdbZ1i",
      "include_colab_link": true
    },
    "kernelspec": {
      "name": "python3",
      "display_name": "Python 3"
    },
    "language_info": {
      "name": "python"
    }
  },
  "cells": [
    {
      "cell_type": "markdown",
      "metadata": {
        "id": "view-in-github",
        "colab_type": "text"
      },
      "source": [
        "<a href=\"https://colab.research.google.com/github/cbonnin88/Streamly_Project/blob/main/Streamly_App.ipynb\" target=\"_parent\"><img src=\"https://colab.research.google.com/assets/colab-badge.svg\" alt=\"Open In Colab\"/></a>"
      ]
    },
    {
      "cell_type": "code",
      "execution_count": 23,
      "metadata": {
        "id": "khcRlTw-KPhn"
      },
      "outputs": [],
      "source": [
        "class StreamlyApp:\n",
        "  def __init__(self):\n",
        "    self.shows = {}\n",
        "    self.movies = {}\n",
        "    self.current_show = None\n",
        "    self.current_movie = None\n",
        "\n",
        "  def create_show(self,show_name):\n",
        "    self.shows[show_name] = []\n",
        "    print(f\"Show '{show_name}' created.\")\n",
        "\n",
        "  def add_episode_to_show(self, show_name, episode):\n",
        "    if show_name in self.shows:\n",
        "      self.shows[show_name].append(episode)\n",
        "      print(f\"Added '{episode}' to '{show_name}' \")\n",
        "    else:\n",
        "      print(f\"Show '{show_name}' not found\")\n",
        "\n",
        "  def play_episode(self, episode):\n",
        "    self.current_show = episode\n",
        "    print(f\"Now playing: {episode}\")\n",
        "\n",
        "  def show_current_episode(self):\n",
        "    if self.current_show:\n",
        "      print(f\"Currently Playing: {self.current_show}\")\n",
        "    else:\n",
        "      print(\"No episode is current playing.\")\n",
        "\n",
        "# Creating the movie functions\n",
        "  def create_library(self,library):\n",
        "    self.movies[library] = []\n",
        "    print(f\"Movie Library '{library}' created.\")\n",
        "\n",
        "  def add_movie_to_library(self, library, movie):\n",
        "    if library in self.movies:\n",
        "      self.movies[library].append(movie)\n",
        "      print(f\"Added '{movie}' to '{library}' \")\n",
        "    else:\n",
        "      print(f\"Show '{library}' not found\")\n",
        "\n",
        "  def play_movie(self,movie):\n",
        "    self.current_movie = movie\n",
        "    print(f\"Now playing: {movie}\")\n",
        "\n",
        "  def show_current_movie(self):\n",
        "    if self.current_movie:\n",
        "      print(f\"Currently Playing: {self.current_movie}\")\n",
        "    else:\n",
        "      print(\"No Movie is currently playing.\")"
      ]
    },
    {
      "cell_type": "code",
      "source": [
        "# Lets test out the use case for the series part\n",
        "streamly = StreamlyApp()\n",
        "\n",
        "while True:\n",
        "  print(\"\\nList of Commands: create show, add episode, play episode, current episode, exit\")\n",
        "  action = input(\"Type in a command: \")\n",
        "\n",
        "  if action == \"create show\":\n",
        "    show_name = input(\"Enter show name: \")\n",
        "    streamly.create_show(show_name)\n",
        "\n",
        "  elif action == \"add episode\":\n",
        "    show_name = input(\"Enter show name: \")\n",
        "    episode = input(\"Enter episode name: \")\n",
        "    streamly.add_episode_to_show(show_name, episode)\n",
        "\n",
        "  elif action == \"play episode\":\n",
        "    episode = input(\"Enter episode name: \")\n",
        "    streamly.play_episode(episode)\n",
        "\n",
        "  elif action == \"current episode\":\n",
        "    streamly.show_current_episode()\n",
        "\n",
        "  elif action == \"exit\":\n",
        "    print(\"Exiting Streamly, Hope to see you soon\")\n",
        "    break\n",
        "\n",
        "  else:\n",
        "    print(\"Invalid command. Please try\")"
      ],
      "metadata": {
        "colab": {
          "base_uri": "https://localhost:8080/"
        },
        "id": "Upp_T0KMTI3R",
        "outputId": "1bbed54d-2f7f-4a90-9500-2ac2388d27d6"
      },
      "execution_count": 15,
      "outputs": [
        {
          "output_type": "stream",
          "name": "stdout",
          "text": [
            "\n",
            "List of Commands: create show, add episode, play episode, current episode, exit\n",
            "Type in a command: create show\n",
            "Enter show name: From\n",
            "Show 'From' created.\n",
            "\n",
            "List of Commands: create show, add episode, play episode, current episode, exit\n",
            "Type in a command: add episode\n",
            "Enter show name: From\n",
            "Enter episode name: Long Day's Journey to Night\n",
            "Added 'Long Day's Journey to Night' to 'From' \n",
            "\n",
            "List of Commands: create show, add episode, play episode, current episode, exit\n",
            "Type in a command: play episode\n",
            "Enter episode name: Long Day's Journey to Night\n",
            "Now playing: Long Day's Journey to Night\n",
            "\n",
            "List of Commands: create show, add episode, play episode, current episode, exit\n",
            "Type in a command: current episode\n",
            "Currently Playing: Long Day's Journey to Night\n",
            "\n",
            "List of Commands: create show, add episode, play episode, current episode, exit\n",
            "Type in a command: exit\n",
            "Exiting Streamly, Hope to see you soon\n"
          ]
        }
      ]
    },
    {
      "cell_type": "code",
      "source": [
        "# Now for movies\n",
        "streamly_movies = StreamlyApp()\n",
        "\n",
        "while True:\n",
        "  print(\"\\nList of Commands: create library, add movie, play movie, current movie, exit\")\n",
        "  action = input(\"Type in a command: \")\n",
        "\n",
        "  if action == \"create library\":\n",
        "    show_movie_library = input(\"Enter Library Title: \")\n",
        "    streamly_movies.create_library(show_movie_library)\n",
        "\n",
        "  elif action == \"add movie\":\n",
        "    show_movie_library = input(\"Enter Library Title: \")\n",
        "    movie = input(\"Enter Movie name: \")\n",
        "    streamly_movies.add_movie_to_library(show_movie_library, movie)\n",
        "\n",
        "  elif action == \"play movie\":\n",
        "    movie = input(\"Enter Movie Title: \")\n",
        "    streamly_movies.play_movie(movie)\n",
        "\n",
        "  elif action == \"current movie\":\n",
        "    streamly_movies.show_current_movie()\n",
        "\n",
        "  elif action == \"exit\":\n",
        "    print(\"Exiting Streamly, Hope to see you soon\")\n",
        "    break\n",
        "\n",
        "  else:\n",
        "    print(\"Invalid command. Please try\")"
      ],
      "metadata": {
        "colab": {
          "base_uri": "https://localhost:8080/"
        },
        "id": "VyfnLp0aZJU9",
        "outputId": "dd603d40-7253-4f96-c8cc-950101579827"
      },
      "execution_count": 24,
      "outputs": [
        {
          "output_type": "stream",
          "name": "stdout",
          "text": [
            "\n",
            "List of Commands: create library, add movie, play movie, current movie, exit\n",
            "Type in a command: create library\n",
            "Enter Library Title: Scary Movies\n",
            "Movie Library 'Scary Movies' created.\n",
            "\n",
            "List of Commands: create library, add movie, play movie, current movie, exit\n",
            "Type in a command: add movie\n",
            "Enter Library Title: Scary Movies\n",
            "Enter Movie name: Hell House LLC\n",
            "Added 'Hell House LLC' to 'Scary Movies' \n",
            "\n",
            "List of Commands: create library, add movie, play movie, current movie, exit\n",
            "Type in a command: play movie\n",
            "Enter Movie Title: Hell House LLC\n",
            "Now playing: Hell House LLC\n",
            "\n",
            "List of Commands: create library, add movie, play movie, current movie, exit\n",
            "Type in a command: current movie\n",
            "Currently Playing: Hell House LLC\n",
            "\n",
            "List of Commands: create library, add movie, play movie, current movie, exit\n",
            "Type in a command: exit\n",
            "Exiting Streamly, Hope to see you soon\n"
          ]
        }
      ]
    }
  ]
}